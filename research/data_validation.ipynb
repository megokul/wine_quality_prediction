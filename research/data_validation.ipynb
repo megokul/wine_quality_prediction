{
 "cells": [
  {
   "cell_type": "code",
   "execution_count": 1,
   "metadata": {},
   "outputs": [],
   "source": [
    "import pandas as pd"
   ]
  },
  {
   "cell_type": "code",
   "execution_count": null,
   "metadata": {},
   "outputs": [],
   "source": []
  },
  {
   "cell_type": "code",
   "execution_count": null,
   "metadata": {},
   "outputs": [],
   "source": [
    "def validate_all_columns(self) -> bool:\n",
    "        validation_status=None\n",
    "        unzip_data_dir = self.config.unzip_data_dir\n",
    "        expected_column_names = self.config.all_schema.keys\n",
    "        STATUS_FILE = self.config.STATUS_FILE\n",
    "        \n",
    "        data = pd.read_csv(unzip_data_dir)\n",
    "        data_column_names = set(data.columns)\n",
    "        expected_column_names = set(expected_column_names)\n",
    "        \n",
    "        if expected_column_names == data_column_names:\n",
    "            validation_status=True\n",
    "        else:\n",
    "            validation_status=False\n",
    "\n",
    "        with open(STATUS_FILE, 'w') as file:\n",
    "            file.write(f'Validation Status: {validation_status}')\n",
    "\n",
    "        return validation_status"
   ]
  },
  {
   "cell_type": "code",
   "execution_count": null,
   "metadata": {},
   "outputs": [],
   "source": []
  }
 ],
 "metadata": {
  "kernelspec": {
   "display_name": "Python 3",
   "language": "python",
   "name": "python3"
  },
  "language_info": {
   "codemirror_mode": {
    "name": "ipython",
    "version": 3
   },
   "file_extension": ".py",
   "mimetype": "text/x-python",
   "name": "python",
   "nbconvert_exporter": "python",
   "pygments_lexer": "ipython3",
   "version": "3.10.16"
  }
 },
 "nbformat": 4,
 "nbformat_minor": 2
}
